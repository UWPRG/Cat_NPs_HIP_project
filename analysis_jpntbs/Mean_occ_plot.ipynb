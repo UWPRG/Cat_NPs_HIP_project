{
 "cells": [
  {
   "cell_type": "code",
   "execution_count": null,
   "id": "b13fc9d4-3571-472c-914f-157ef160fec7",
   "metadata": {
    "tags": []
   },
   "outputs": [],
   "source": [
    "#import the necessary modules \n",
    "%matplotlib inline \n",
    "import numpy as np \n",
    "import matplotlib.pyplot as plt \n",
    "import pandas as pd \n",
    "import scipy\n",
    "import sklearn\n",
    "import itertools \n",
    "from itertools import cycle \n",
    "import os.path as op\n",
    "import timeit \n",
    "import json\n",
    "import math"
   ]
  },
  {
   "cell_type": "code",
   "execution_count": null,
   "id": "7722ddc5-11d0-4737-9d19-825b408894c7",
   "metadata": {},
   "outputs": [],
   "source": [
    "import multiprocessing as m_proc\n",
    "m_proc.cpu_count()"
   ]
  },
  {
   "cell_type": "code",
   "execution_count": null,
   "id": "881e8209-77d5-43aa-b50d-221554d338c4",
   "metadata": {},
   "outputs": [],
   "source": [
    "# Import MDAnalysis\n",
    "import MDAnalysis as mda\n",
    "#from MDAnalysis.analysis import polymer, distances, rdf\n",
    "import MDAnalysis.analysis.distances as maa_dist\n",
    "import matplotlib.font_manager as font_manager"
   ]
  },
  {
   "cell_type": "code",
   "execution_count": null,
   "id": "b3eb019f-12f6-46ad-a83d-0e344021d45e",
   "metadata": {},
   "outputs": [],
   "source": [
    "from mean_occ_fcns import AA_list_org, aa_frmcount"
   ]
  },
  {
   "cell_type": "code",
   "execution_count": null,
   "id": "f07105eb-bc67-46d1-993b-29319ed0e9be",
   "metadata": {},
   "outputs": [],
   "source": []
  },
  {
   "cell_type": "markdown",
   "id": "2d36c33f-3b84-4e34-a495-a26a5216267a",
   "metadata": {},
   "source": [
    "### BSA/TA MR = 32 Mean Occ"
   ]
  },
  {
   "cell_type": "markdown",
   "id": "99ed9b10-6af0-46e8-bb83-6f816ffaab6d",
   "metadata": {},
   "source": [
    "#### Load Coordinates and Trajectory"
   ]
  },
  {
   "cell_type": "code",
   "execution_count": null,
   "id": "b270e32a-831c-424c-9559-7926edda8201",
   "metadata": {},
   "outputs": [],
   "source": [
    "MR32_bsaTA = mda.Universe('BSA_TA_ions/BSA_TA_MR_32/trial_1/mr32TA_nosol.pdb'\n",
    "                           ,'BSA_TA_ions/BSA_TA_MR_32/trial_1/centnoPBC_MR32TA.xtc')"
   ]
  },
  {
   "cell_type": "code",
   "execution_count": null,
   "id": "ae36e64c-2be5-45b6-9877-1cddbe0176cc",
   "metadata": {},
   "outputs": [],
   "source": [
    "MR32_bsaTA"
   ]
  },
  {
   "cell_type": "markdown",
   "id": "5ac0abfe-35c7-4389-9467-79e87d6dbf0b",
   "metadata": {},
   "source": [
    "#### Check that we are on the first frame"
   ]
  },
  {
   "cell_type": "code",
   "execution_count": null,
   "id": "af580b56-ccf2-4d0c-8333-c80e7cf1801c",
   "metadata": {},
   "outputs": [],
   "source": [
    "MR32_bsaTA.trajectory.frame"
   ]
  },
  {
   "cell_type": "code",
   "execution_count": null,
   "id": "8e492199-9e92-4d93-a994-e26bb83a7d60",
   "metadata": {},
   "outputs": [],
   "source": [
    "MR32_bsaTA.trajectory[0]"
   ]
  },
  {
   "cell_type": "code",
   "execution_count": null,
   "id": "f680f481-c9d3-4315-b4de-07c82ee78f43",
   "metadata": {},
   "outputs": [],
   "source": [
    "# Each frame was saved with dt being 20 ps (20 ps * 10000 frames = 200,000 ps = 200 ns) \n",
    "# Length of trajectory\n",
    "bTAmr32_len = len(MR32_bsaTA.trajectory)\n",
    "bTAmr32_len"
   ]
  },
  {
   "cell_type": "code",
   "execution_count": null,
   "id": "0534d7c6-384d-42fe-8c4b-b62ed5074db0",
   "metadata": {},
   "outputs": [],
   "source": [
    "# Select protein\n",
    "bsa_bTAmr32 = MR32_bsaTA.select_atoms(\"protein\")\n",
    "bsa_bTAmr32"
   ]
  },
  {
   "cell_type": "code",
   "execution_count": null,
   "id": "b7c69fc8-16b7-4e22-8766-b7f5cda7d47b",
   "metadata": {},
   "outputs": [],
   "source": [
    "# Select TA molecules\n",
    "ta_bTAmr32 = MR32_bsaTA.select_atoms(\"resname TCL\")\n",
    "ta_bTAmr32"
   ]
  },
  {
   "cell_type": "code",
   "execution_count": null,
   "id": "d6756e42-c2e1-4cd0-a392-94a8f446d615",
   "metadata": {},
   "outputs": [],
   "source": [
    "# Select K+ ions\n",
    "CL_bTAmr32 = MR32_bsaTA.select_atoms(\"resname CL\")\n",
    "CL_bTAmr32"
   ]
  },
  {
   "cell_type": "markdown",
   "id": "f4acc5b5-a131-4d04-9bc5-f4900d2a8c48",
   "metadata": {},
   "source": [
    "#### TA occupancy"
   ]
  },
  {
   "cell_type": "code",
   "execution_count": null,
   "id": "9fad9389-bcd5-4894-8fc1-2e1d672ae3e3",
   "metadata": {},
   "outputs": [],
   "source": [
    "#dmax = 4.0, DO NOT use surface atom group, you will get the wrong answer \n",
    "dmax = 4.0\n",
    "start = 0\n",
    "#end = 1000\n",
    "end = bTAmr32_len - 1\n",
    "s_time = timeit.default_timer()\n",
    "bTAmr32_occdict = aa_frmcount(bsa_bTAmr32, ta_bTAmr32, dmax, MR32_bsaTA, start, end)\n",
    "timeit.default_timer() - s_time"
   ]
  },
  {
   "cell_type": "code",
   "execution_count": null,
   "id": "cdc8dfd6-5738-4f00-8daf-89a574d0c6de",
   "metadata": {},
   "outputs": [],
   "source": [
    "#import json\n",
    "\n",
    "with open('bTAmr32_occdict.json', 'w') as fp:\n",
    "    json.dump(bTAmr32_occdict, fp)"
   ]
  },
  {
   "cell_type": "code",
   "execution_count": null,
   "id": "022fd2a8-9411-4a10-b0b0-927ea5423900",
   "metadata": {},
   "outputs": [],
   "source": [
    "#import json\n",
    "with open('bTAmr32_occdict.json', 'r') as fp:\n",
    "    bTAmr32_occdict = json.load(fp)"
   ]
  },
  {
   "cell_type": "code",
   "execution_count": null,
   "id": "5c9cfa35-146f-4d51-8908-e363356d0049",
   "metadata": {},
   "outputs": [],
   "source": [
    "a_a = ['ALA','ARG','ASH','ASN','ASP','CYS','GLH','GLN','GLU','GLY','HID','HIE','HIP','ILE','LEU','LYS','MET'\n",
    "      ,'PHE','PRO','SER','THR','TRP','TYR','VAL','CYX']"
   ]
  },
  {
   "cell_type": "code",
   "execution_count": null,
   "id": "8540c03f-3b4c-4f02-b7d2-88d1933acbe5",
   "metadata": {},
   "outputs": [],
   "source": [
    "len(bTAmr32_occdict.keys())"
   ]
  },
  {
   "cell_type": "code",
   "execution_count": null,
   "id": "4fc15198-d772-4c60-ab80-a1f7ea1c91b1",
   "metadata": {},
   "outputs": [],
   "source": [
    "TAmr32_occ = {key:bTAmr32_occdict[key][1] for key, value in bTAmr32_occdict.items()}\n",
    "#test_TA"
   ]
  },
  {
   "cell_type": "code",
   "execution_count": null,
   "id": "d5777a4d-5b7e-44ab-bf66-7915c86043c1",
   "metadata": {},
   "outputs": [],
   "source": [
    "bTAmr32_occdict"
   ]
  },
  {
   "cell_type": "code",
   "execution_count": null,
   "id": "68661a69-b543-4496-9eae-d63c8cc5279d",
   "metadata": {},
   "outputs": [],
   "source": [
    "moccg95_bTA32 = []\n",
    "for key, value in TAmr32_occ.items():\n",
    "    if value > 0.95:\n",
    "        moccg95_bTA32.append(key)"
   ]
  },
  {
   "cell_type": "code",
   "execution_count": null,
   "id": "fd9daaba-096e-4ad0-81b5-6cfceba5d10d",
   "metadata": {},
   "outputs": [],
   "source": [
    "len(moccg95_bTA32)"
   ]
  },
  {
   "cell_type": "code",
   "execution_count": null,
   "id": "fbd1d181-5cf9-493f-ac92-0aa1bec673cb",
   "metadata": {},
   "outputs": [],
   "source": [
    "tt_TAmr32 = []\n",
    "#cnt_sav = []\n",
    "ssbTAmr32 = []\n",
    "for i in range(len(a_a)):\n",
    "    count = 0\n",
    "    for j in range(len(moccg95_bTA32)):\n",
    "        if (moccg95_bTA32[j].find(a_a[i]) != -1) == True:\n",
    "            #print(a_a[i])\n",
    "            #print(moccg95_bTA32[j])\n",
    "            tt_TAmr32.append(moccg95_bTA32[j])\n",
    "            #cnt_sav.append(j)\n",
    "            count += 1\n",
    "    ssbTAmr32.append(str(str(a_a[i])+\"  \"+str(count)))    "
   ]
  },
  {
   "cell_type": "code",
   "execution_count": null,
   "id": "67834a78-9cfb-47a0-b50b-bf832d7d5c11",
   "metadata": {},
   "outputs": [],
   "source": [
    "ssbTAmr32"
   ]
  },
  {
   "cell_type": "code",
   "execution_count": null,
   "id": "97a4df69-e6be-4f28-b653-f00f0e17a003",
   "metadata": {},
   "outputs": [],
   "source": [
    "#tt_ta"
   ]
  },
  {
   "cell_type": "code",
   "execution_count": null,
   "id": "33a25beb-49de-40c9-8ee1-b15ff69cceb8",
   "metadata": {},
   "outputs": [],
   "source": [
    "# Sorting of AA in prot_polymer_analysis functions\n",
    "# Grouping of residues in Smith et al  \n",
    "#aromatic_res = ['PHE', 'TRP', 'TYR', 'HID','HIE']\n",
    "#hydrophobic_res = ['ALA', 'ILE', 'LEU', 'VAL', 'PRO','PHE', 'TRP','MET','TYR']\n",
    "#polar_res = ['ASN', 'CYS', 'CYX','ASH', 'GLH','GLN', 'SER', 'THR','GLY','HIE','HID']\n",
    "#neg_res = ['ASP', 'GLU']\n",
    "#pos_res = ['ARG', 'HIP', 'LYS']\n",
    "\n",
    "#all_res = [pos_res, neg_res, polar_res, hydrophobic_res, aromatic_res]\n",
    "\n",
    "# Put the AA count in a pandas dataframe \n",
    "TA32_dg , TA32_ji = AA_list_org(ssbTAmr32)\n",
    "prot95_mocc = pd.DataFrame(data=TA32_dg, index=None, columns=['Amino_acids'])\n",
    "new_lf = pd.Series(data=TA32_ji, index=None)\n",
    "prot95_mocc['BSA/TA MR = 32'] = new_lf\n",
    "prot95_mocc"
   ]
  },
  {
   "cell_type": "code",
   "execution_count": null,
   "id": "cf90a61c-3826-4121-b7e3-431e00c2bf58",
   "metadata": {},
   "outputs": [],
   "source": [
    "prot95_mocc['BSA/TA MR = 32'][:].sum()"
   ]
  },
  {
   "cell_type": "code",
   "execution_count": null,
   "id": "002a3732-f5c4-4f46-8296-698f191bbefd",
   "metadata": {},
   "outputs": [],
   "source": [
    "len(bTAmr32_occdict.keys())"
   ]
  },
  {
   "cell_type": "code",
   "execution_count": null,
   "id": "5e26fefd-28df-4c9f-8325-d943522aa30c",
   "metadata": {},
   "outputs": [],
   "source": [
    "totres_TAmr32 = prot95_mocc['BSA/TA MR = 32'][:].sum()"
   ]
  },
  {
   "cell_type": "code",
   "execution_count": null,
   "id": "6ec14e89-7df4-469f-918a-2c91a9e3ce72",
   "metadata": {},
   "outputs": [],
   "source": [
    "# Number of positively charged residues (SASA)\n",
    "#pos_res = ['ARG', 'HIP', 'LYS']\n",
    "pos_TAmr32 = prot95_mocc['BSA/TA MR = 32'][0:3].sum()/totres_TAmr32"
   ]
  },
  {
   "cell_type": "code",
   "execution_count": null,
   "id": "787f11ed-56bc-48b6-a348-7304a1e8c27c",
   "metadata": {},
   "outputs": [],
   "source": [
    "# Number of negatively charged residues (SASA)\n",
    "#neg_res = ['ASP', 'GLU']\n",
    "neg_TAmr32 = prot95_mocc['BSA/TA MR = 32'][3:5].sum()/totres_TAmr32"
   ]
  },
  {
   "cell_type": "code",
   "execution_count": null,
   "id": "42890af9-ae8d-4713-8267-17c0220ecfc8",
   "metadata": {},
   "outputs": [],
   "source": [
    "# Number of polar residues (SASA)\n",
    "#polar_res = ['ASN', 'CYS', 'CYX' 'ASH', 'GLH','GLN', 'SER', 'THR','GLY','HIE','HID']\n",
    "pol_TAmr32 = prot95_mocc['BSA/TA MR = 32'][5:16].sum()/totres_TAmr32"
   ]
  },
  {
   "cell_type": "code",
   "execution_count": null,
   "id": "7a72c7ec-3f1c-4d4e-bd52-19d72ae62e47",
   "metadata": {},
   "outputs": [],
   "source": [
    "# Number of hydrophobic residues (SASA)\n",
    "#hydrophobic_res = ['ALA', 'ILE', 'LEU', 'VAL', 'PRO','PHE', 'TRP','MET','TYR']\n",
    "hb_TAmr32 = prot95_mocc['BSA/TA MR = 32'][16:25].sum()/totres_TAmr32"
   ]
  },
  {
   "cell_type": "code",
   "execution_count": null,
   "id": "75c25810-fac5-471b-9842-00dd24b094f9",
   "metadata": {},
   "outputs": [],
   "source": [
    "# Number of aromatic residues (SASA)\n",
    "#aromatic_res = ['PHE', 'TRP', 'TYR', 'HID','HIE']\n",
    "arm_TAmr32 = prot95_mocc['BSA/TA MR = 32'][25:30].sum()/totres_TAmr32"
   ]
  },
  {
   "cell_type": "code",
   "execution_count": null,
   "id": "f12a7302-a80e-430e-873f-a85ec3c5f28a",
   "metadata": {},
   "outputs": [],
   "source": []
  },
  {
   "cell_type": "code",
   "execution_count": null,
   "id": "f928f41d-b972-4c05-a9e6-f2f23416e71f",
   "metadata": {},
   "outputs": [],
   "source": []
  },
  {
   "cell_type": "code",
   "execution_count": null,
   "id": "36668adf-ac26-497f-b8ae-5eca7900565a",
   "metadata": {},
   "outputs": [],
   "source": []
  },
  {
   "cell_type": "markdown",
   "id": "7e975bf3-9a46-49ba-9972-19f98647f2a5",
   "metadata": {},
   "source": [
    "### BSA/TA MR = 128 Mean Occ"
   ]
  },
  {
   "cell_type": "markdown",
   "id": "ef6c8d06-bb0a-404a-bbe0-25eae753e195",
   "metadata": {},
   "source": [
    "#### Load Coordinates and Trajectory"
   ]
  },
  {
   "cell_type": "code",
   "execution_count": null,
   "id": "d5e7b838-7d81-4319-81f6-dc82e29113c1",
   "metadata": {},
   "outputs": [],
   "source": [
    "MR128_bsaTA = mda.Universe('BSA_TA_ions/BSA_TA_MR_128/trial_1/NC_MR128nosol.pdb'\n",
    "                           ,'BSA_TA_ions/BSA_TA_MR_128/trial_1/cent_noPBCpH3.7.xtc')"
   ]
  },
  {
   "cell_type": "code",
   "execution_count": null,
   "id": "beacb419-5404-4edf-af80-47b80ce32998",
   "metadata": {},
   "outputs": [],
   "source": [
    "MR128_bsaTA"
   ]
  },
  {
   "cell_type": "markdown",
   "id": "dd3a4cac-34f3-4021-a277-b3e045a3bb64",
   "metadata": {},
   "source": [
    "#### Check that we are on the first frame"
   ]
  },
  {
   "cell_type": "code",
   "execution_count": null,
   "id": "6b0377e9-041d-462a-b498-86e24f1c006f",
   "metadata": {},
   "outputs": [],
   "source": [
    "MR128_bsaTA.trajectory.frame"
   ]
  },
  {
   "cell_type": "code",
   "execution_count": null,
   "id": "13e6809e-e478-4094-bb1d-5f8c22d71835",
   "metadata": {},
   "outputs": [],
   "source": [
    "MR128_bsaTA.trajectory[0]"
   ]
  },
  {
   "cell_type": "code",
   "execution_count": null,
   "id": "78954f21-3ed8-491b-a2e4-4fed874c2f9f",
   "metadata": {},
   "outputs": [],
   "source": [
    "# Each frame was saved with dt being 20 ps (20 ps * 10000 frames = 200,000 ps = 200 ns) \n",
    "# Length of trajectory\n",
    "bTAmr128_len = len(MR128_bsaTA.trajectory)\n",
    "bTAmr128_len"
   ]
  },
  {
   "cell_type": "code",
   "execution_count": null,
   "id": "34bc01f8-0b31-4032-8aed-dec3a0e7797e",
   "metadata": {},
   "outputs": [],
   "source": [
    "# Select protein\n",
    "bsa_bTAmr128 = MR128_bsaTA.select_atoms(\"protein\")\n",
    "bsa_bTAmr128"
   ]
  },
  {
   "cell_type": "code",
   "execution_count": null,
   "id": "2ec1d681-0c4c-49a0-991d-ad817acdb9db",
   "metadata": {},
   "outputs": [],
   "source": [
    "# Select TA molecules\n",
    "ta_bTAmr128 = MR128_bsaTA.select_atoms(\"resname TCL\")\n",
    "ta_bTAmr128"
   ]
  },
  {
   "cell_type": "code",
   "execution_count": null,
   "id": "f1d7133e-b358-4c8b-bd91-651940cc1b02",
   "metadata": {},
   "outputs": [],
   "source": [
    "# Select K+ ions\n",
    "K_bTAmr128 = MR128_bsaTA.select_atoms(\"resname K\")\n",
    "K_bTAmr128"
   ]
  },
  {
   "cell_type": "markdown",
   "id": "61fea28b-c3d7-44a7-aae7-6990a4aedbd9",
   "metadata": {},
   "source": [
    "#### TA occupancy"
   ]
  },
  {
   "cell_type": "code",
   "execution_count": null,
   "id": "49987456-aa2b-4d81-8509-26737ce055c5",
   "metadata": {},
   "outputs": [],
   "source": [
    "#dmax = 4.0, DO NOT use surface atom group, you will get the wrong answer \n",
    "dmax = 4.0\n",
    "start = 0\n",
    "#end = 1000\n",
    "end = bTAmr128_len - 1\n",
    "s_time = timeit.default_timer()\n",
    "bTAMR128_occdict = aa_frmcount(bsa_bTAmr128, ta_bTAmr128, dmax, MR128_bsaTA, start, end)\n",
    "timeit.default_timer() - s_time"
   ]
  },
  {
   "cell_type": "code",
   "execution_count": null,
   "id": "64d47516-7585-4880-bcf8-0a83d275358c",
   "metadata": {},
   "outputs": [],
   "source": [
    "with open('bTAMR128_occdict.json', 'w') as fp:\n",
    "    json.dump(bTAMR128_occdict, fp)"
   ]
  },
  {
   "cell_type": "code",
   "execution_count": null,
   "id": "f23561e5-7848-4f06-b3c0-38a70bea589c",
   "metadata": {},
   "outputs": [],
   "source": [
    "with open('bTAMR128_occdict.json', 'r') as fp:\n",
    "    bTAMR128_occdict = json.load(fp)"
   ]
  },
  {
   "cell_type": "code",
   "execution_count": null,
   "id": "f2e01257-8823-45b4-8be6-ff25b6f4b075",
   "metadata": {},
   "outputs": [],
   "source": [
    "len(bTAMR128_occdict.keys())"
   ]
  },
  {
   "cell_type": "code",
   "execution_count": null,
   "id": "1371a01f-15e8-4367-828c-4e605490f4d4",
   "metadata": {},
   "outputs": [],
   "source": [
    "taMR128_occ = {key:bTAMR128_occdict[key][1] for key, value in bTAMR128_occdict.items()}\n",
    "#test_TA"
   ]
  },
  {
   "cell_type": "code",
   "execution_count": null,
   "id": "c49254e6-a6a9-470c-964d-9f9b3e3f770f",
   "metadata": {},
   "outputs": [],
   "source": [
    "bTAMR128_occdict"
   ]
  },
  {
   "cell_type": "code",
   "execution_count": null,
   "id": "4ddae13c-4d29-49f1-a1dc-bc859847681d",
   "metadata": {},
   "outputs": [],
   "source": [
    "moccg95_bTA128 = []\n",
    "for key, value in taMR128_occ.items():\n",
    "    if value > 0.95:\n",
    "        moccg95_bTA128.append(key)"
   ]
  },
  {
   "cell_type": "code",
   "execution_count": null,
   "id": "810bf312-99a2-40c9-8e4f-24cfcfd5ae6b",
   "metadata": {},
   "outputs": [],
   "source": [
    "len(moccg95_bTA128)"
   ]
  },
  {
   "cell_type": "code",
   "execution_count": null,
   "id": "968d6db1-c538-4a07-9d9c-422fc315e6a0",
   "metadata": {},
   "outputs": [],
   "source": [
    "tt_taMR128 = []\n",
    "#cnt_sav = []\n",
    "ssbTAmr128 = []\n",
    "for i in range(len(a_a)):\n",
    "    count = 0\n",
    "    for j in range(len(moccg95_bTA128)):\n",
    "        if (moccg95_bTA128[j].find(a_a[i]) != -1) == True:\n",
    "            #print(a_a[i])\n",
    "            #print(moccg95_bTA128[j])\n",
    "            tt_taMR128.append(moccg95_bTA128[j])\n",
    "            #cnt_sav.append(j)\n",
    "            count += 1\n",
    "    ssbTAmr128.append(str(str(a_a[i])+\"  \"+str(count)))    "
   ]
  },
  {
   "cell_type": "code",
   "execution_count": null,
   "id": "028cdfa8-f392-483d-b1d1-6da3eb7bffcd",
   "metadata": {},
   "outputs": [],
   "source": [
    "ssbTAmr128"
   ]
  },
  {
   "cell_type": "code",
   "execution_count": null,
   "id": "d266649f-468d-4c1c-9548-76ef0b6f19c9",
   "metadata": {},
   "outputs": [],
   "source": [
    "#tt_ta"
   ]
  },
  {
   "cell_type": "code",
   "execution_count": null,
   "id": "95ed2432-d33a-4ccd-9315-3ff54fc4526d",
   "metadata": {},
   "outputs": [],
   "source": [
    "moccg95_bTA128[71]"
   ]
  },
  {
   "cell_type": "code",
   "execution_count": null,
   "id": "58091bc7-1d7d-427d-bfea-ca473bb9b78d",
   "metadata": {},
   "outputs": [],
   "source": [
    "len(cnt_sav)"
   ]
  },
  {
   "cell_type": "code",
   "execution_count": null,
   "id": "d4e4f376-c0ce-44fa-b111-0ca2e1a73ec2",
   "metadata": {},
   "outputs": [],
   "source": [
    "# Sorting of AA in prot_polymer_analysis functions\n",
    "# Grouping of residues in Smith et al  \n",
    "#aromatic_res = ['PHE', 'TRP', 'TYR', 'HID','HIE']\n",
    "#hydrophobic_res = ['ALA', 'ILE', 'LEU', 'VAL', 'PRO','PHE', 'TRP','MET','TYR']\n",
    "#polar_res = ['ASN', 'CYS', 'CYX','ASH', 'GLH','GLN', 'SER', 'THR','GLY','HIE','HID']\n",
    "#neg_res = ['ASP', 'GLU']\n",
    "#pos_res = ['ARG', 'HIP', 'LYS']\n",
    "\n",
    "#all_res = [pos_res, neg_res, polar_res, hydrophobic_res, aromatic_res]\n",
    "\n",
    "# Put the AA count in a pandas dataframe \n",
    "ta128_dg , ta128_ji = AA_list_org(ssbTAmr128)\n",
    "prot95_mocc = pd.DataFrame(data=ta128_dg, index=None, columns=['Amino_acids'])\n",
    "new_lf = pd.Series(data=ta128_ji, index=None)\n",
    "prot95_mocc['BSA/TA MR = 128'] = new_lf\n",
    "prot95_mocc"
   ]
  },
  {
   "cell_type": "code",
   "execution_count": null,
   "id": "e6f71415-f056-4d09-8ed6-a3b1e278e861",
   "metadata": {},
   "outputs": [],
   "source": [
    "prot95_mocc['BSA/TA MR = 128'][:].sum()"
   ]
  },
  {
   "cell_type": "code",
   "execution_count": null,
   "id": "d45f4832-71f7-42e9-b908-cf8928594326",
   "metadata": {},
   "outputs": [],
   "source": [
    "len(bTAMR128_occdict.keys())"
   ]
  },
  {
   "cell_type": "code",
   "execution_count": null,
   "id": "5489d589-0fc6-4f80-8ac2-1a8c790288c3",
   "metadata": {},
   "outputs": [],
   "source": [
    "totres_TAmr128 = prot95_mocc['BSA/TA MR = 128'][:].sum()"
   ]
  },
  {
   "cell_type": "code",
   "execution_count": null,
   "id": "174a97bb-b348-442e-8a72-ad58114d267a",
   "metadata": {},
   "outputs": [],
   "source": [
    "# Number of positively charged residues (SASA)\n",
    "#pos_res = ['ARG', 'HIP', 'LYS']\n",
    "pos_taMR128 = prot95_mocc['BSA/TA MR = 128'][0:3].sum()/totres_TAmr128"
   ]
  },
  {
   "cell_type": "code",
   "execution_count": null,
   "id": "2d8e07e6-9dae-4194-bf5f-3947a909b3b9",
   "metadata": {},
   "outputs": [],
   "source": [
    "# Number of negatively charged residues (SASA)\n",
    "#neg_res = ['ASP', 'GLU']\n",
    "neg_taMR128 = prot95_mocc['BSA/TA MR = 128'][3:5].sum()/totres_TAmr128"
   ]
  },
  {
   "cell_type": "code",
   "execution_count": null,
   "id": "4ca2e075-ddec-43e6-b11f-162a80def3fb",
   "metadata": {},
   "outputs": [],
   "source": [
    "# Number of polar residues (SASA)\n",
    "#polar_res = ['ASN', 'CYS', 'CYX' 'ASH', 'GLH','GLN', 'SER', 'THR','GLY','HIE','HID']\n",
    "pol_taMR128 = prot95_mocc['BSA/TA MR = 128'][5:16].sum()/totres_TAmr128"
   ]
  },
  {
   "cell_type": "code",
   "execution_count": null,
   "id": "cf78ea61-50b9-438d-89fe-3ac8a6917f06",
   "metadata": {},
   "outputs": [],
   "source": [
    "# Number of hydrophobic residues (SASA)\n",
    "#hydrophobic_res = ['ALA', 'ILE', 'LEU', 'VAL', 'PRO','PHE', 'TRP','MET','TYR']\n",
    "hb_taMR128 = prot95_mocc['BSA/TA MR = 128'][16:25].sum()/totres_TAmr128"
   ]
  },
  {
   "cell_type": "code",
   "execution_count": null,
   "id": "dc534022-080d-48e5-80d4-9cff2a062b75",
   "metadata": {},
   "outputs": [],
   "source": [
    "# Number of aromatic residues (SASA)\n",
    "#aromatic_res = ['PHE', 'TRP', 'TYR', 'HID','HIE']\n",
    "arm_taMR128 = prot95_mocc['BSA/TA MR = 128'][25:30].sum()/totres_TAmr128"
   ]
  },
  {
   "cell_type": "code",
   "execution_count": null,
   "id": "ef556e73-91a4-4c10-ad2d-c484f4513d5c",
   "metadata": {},
   "outputs": [],
   "source": []
  },
  {
   "cell_type": "code",
   "execution_count": null,
   "id": "8714d40e-9812-4f24-8599-d9857b594955",
   "metadata": {},
   "outputs": [],
   "source": []
  },
  {
   "cell_type": "markdown",
   "id": "dfbb0cf6-aada-48f5-9c5b-c11bc8b3a2e5",
   "metadata": {},
   "source": [
    "### BSA/SDS MR = 16 Mean Occ"
   ]
  },
  {
   "cell_type": "markdown",
   "id": "c5993e28-95ec-47ea-9bb9-5fd33e215fdc",
   "metadata": {},
   "source": [
    "#### Load Coordinates and Trajectory"
   ]
  },
  {
   "cell_type": "code",
   "execution_count": null,
   "id": "01b2872c-ff85-440e-9c36-0b8b62aa8f20",
   "metadata": {},
   "outputs": [],
   "source": [
    "MR16_bsaSDS = mda.Universe('BSA_SDS_ions/BSA_SDS_MR_16/trial_1/SDSmr16_bsa.pdb'\n",
    "                           ,'BSA_SDS_ions/BSA_SDS_MR_16/trial_1/centnoPBC_SDSmr16.xtc')"
   ]
  },
  {
   "cell_type": "code",
   "execution_count": null,
   "id": "0e038e88-e1bd-4aa3-ab81-04239ca88c86",
   "metadata": {},
   "outputs": [],
   "source": [
    "MR16_bsaSDS"
   ]
  },
  {
   "cell_type": "markdown",
   "id": "9ac0ceb4-a105-4ba8-b55b-0d4dbbe54bb0",
   "metadata": {},
   "source": [
    "#### Check that we are on the first frame"
   ]
  },
  {
   "cell_type": "code",
   "execution_count": null,
   "id": "3495c4c7-7c9d-44a7-9a52-27113a54a436",
   "metadata": {},
   "outputs": [],
   "source": [
    "MR16_bsaSDS.trajectory.frame"
   ]
  },
  {
   "cell_type": "code",
   "execution_count": null,
   "id": "97d151b0-0daf-4b14-a24b-eef66bdabc6b",
   "metadata": {},
   "outputs": [],
   "source": [
    "# Each frame was saved with dt being 20 ps (20 ps * 10000 frames = 200,000 ps = 200 ns) \n",
    "# Length of trajectory\n",
    "bSDSmr16_len = len(MR16_bsaSDS.trajectory)\n",
    "bSDSmr16_len"
   ]
  },
  {
   "cell_type": "code",
   "execution_count": null,
   "id": "c39a4328-2a7e-44b6-982f-4ff782d2b7aa",
   "metadata": {},
   "outputs": [],
   "source": [
    "# Select protein\n",
    "bsa_bSDSmr16 = MR16_bsaSDS.select_atoms(\"protein\")\n",
    "bsa_bSDSmr16"
   ]
  },
  {
   "cell_type": "code",
   "execution_count": null,
   "id": "ce7bad4d-20a3-4abe-811a-75dc92ec9fd2",
   "metadata": {},
   "outputs": [],
   "source": [
    "# Select SDS molecules\n",
    "SDS_bSDSmr16 = MR16_bsaSDS.select_atoms(\"resname SDS\")\n",
    "SDS_bSDSmr16"
   ]
  },
  {
   "cell_type": "code",
   "execution_count": null,
   "id": "f422d8ca-e16e-45d9-bf88-c43eed82fba1",
   "metadata": {},
   "outputs": [],
   "source": [
    "# Select K+ ions\n",
    "CL_bSDSmr16 = MR16_bsaSDS.select_atoms(\"resname CL\")\n",
    "CL_bSDSmr16"
   ]
  },
  {
   "cell_type": "markdown",
   "id": "e23d1279-4941-41a5-ac1f-95c0f9a13468",
   "metadata": {},
   "source": [
    "#### SDS occupancy"
   ]
  },
  {
   "cell_type": "code",
   "execution_count": null,
   "id": "ee9ee09d-2fa1-4b41-968a-d5294dcb0a2a",
   "metadata": {},
   "outputs": [],
   "source": [
    "#dmax = 4.0, DO NOT use surface atom group, you will get the wrong answer \n",
    "dmax = 4.0\n",
    "start = 0\n",
    "#end = 1000\n",
    "end = bSDSmr16_len - 1\n",
    "s_time = timeit.default_timer()\n",
    "bSDSmr16_occdict = aa_frmcount(bsa_bSDSmr16, SDS_bSDSmr16, dmax, MR16_bsaSDS, start, end)\n",
    "timeit.default_timer() - s_time"
   ]
  },
  {
   "cell_type": "code",
   "execution_count": null,
   "id": "cdf30120-85bd-48af-96d3-284694a8d9ff",
   "metadata": {},
   "outputs": [],
   "source": [
    "with open('bSDSmr16_occdict.json', 'w') as fp:\n",
    "    json.dump(bSDSmr16_occdict, fp)"
   ]
  },
  {
   "cell_type": "code",
   "execution_count": null,
   "id": "dd29188e-3ef1-43a6-b7ad-67493c240836",
   "metadata": {},
   "outputs": [],
   "source": [
    "with open('bSDSmr16_occdict.json', 'r') as fp:\n",
    "    bSDSmr16_occdict = json.load(fp)"
   ]
  },
  {
   "cell_type": "code",
   "execution_count": null,
   "id": "92137405-3a00-41f2-a07e-668c35f45b71",
   "metadata": {},
   "outputs": [],
   "source": [
    "len(bSDSmr16_occdict.keys())"
   ]
  },
  {
   "cell_type": "code",
   "execution_count": null,
   "id": "09a3ed9c-b2d7-4997-9d99-dbc5c056e8fe",
   "metadata": {},
   "outputs": [],
   "source": [
    "SDSmr16_occ = {key:bSDSmr16_occdict[key][1] for key, value in bSDSmr16_occdict.items()}\n",
    "#test_TA"
   ]
  },
  {
   "cell_type": "code",
   "execution_count": null,
   "id": "f07bb55b-0e45-44da-9406-6443b16ccd87",
   "metadata": {},
   "outputs": [],
   "source": [
    "bSDSmr16_occdict"
   ]
  },
  {
   "cell_type": "code",
   "execution_count": null,
   "id": "933767e2-42ea-4850-9931-70383dc224d8",
   "metadata": {},
   "outputs": [],
   "source": [
    "moccg95_bSDS16 = []\n",
    "for key, value in SDSmr16_occ.items():\n",
    "    if value > 0.95:\n",
    "        moccg95_bSDS16.append(key)"
   ]
  },
  {
   "cell_type": "code",
   "execution_count": null,
   "id": "e49a3bba-b2af-43f8-b9a3-f10a844c3e9f",
   "metadata": {},
   "outputs": [],
   "source": [
    "len(moccg95_bSDS16)"
   ]
  },
  {
   "cell_type": "code",
   "execution_count": null,
   "id": "b8ff8718-5df2-4960-9241-1fe94d948082",
   "metadata": {},
   "outputs": [],
   "source": [
    "tt_SDSmr16 = []\n",
    "#cnt_sav = []\n",
    "ssbSDSmr16 = []\n",
    "for i in range(len(a_a)):\n",
    "    count = 0\n",
    "    for j in range(len(moccg95_bSDS16)):\n",
    "        if (moccg95_bSDS16[j].find(a_a[i]) != -1) == True:\n",
    "            #print(a_a[i])\n",
    "            #print(moccg95_bSDS16[j])\n",
    "            tt_SDSmr16.append(moccg95_bSDS16[j])\n",
    "            #cnt_sav.append(j)\n",
    "            count += 1\n",
    "    ssbSDSmr16.append(str(str(a_a[i])+\"  \"+str(count)))    "
   ]
  },
  {
   "cell_type": "code",
   "execution_count": null,
   "id": "2e64377a-fd17-4f53-9aa6-31aad7287dbb",
   "metadata": {},
   "outputs": [],
   "source": [
    "ssbSDSmr16"
   ]
  },
  {
   "cell_type": "code",
   "execution_count": null,
   "id": "ecda5661-07e6-43fa-9a00-6cee54dd43df",
   "metadata": {},
   "outputs": [],
   "source": [
    "#tt_ta"
   ]
  },
  {
   "cell_type": "code",
   "execution_count": null,
   "id": "7cae652a-4e18-4c2b-87ee-f6bd9035523e",
   "metadata": {},
   "outputs": [],
   "source": [
    "# Sorting of AA in prot_polymer_analysis functions\n",
    "# Grouping of residues in Smith et al  \n",
    "#aromatic_res = ['PHE', 'TRP', 'TYR', 'HID','HIE']\n",
    "#hydrophobic_res = ['ALA', 'ILE', 'LEU', 'VAL', 'PRO','PHE', 'TRP','MET','TYR']\n",
    "#polar_res = ['ASN', 'CYS', 'CYX','ASH', 'GLH','GLN', 'SER', 'THR','GLY','HIE','HID']\n",
    "#neg_res = ['ASP', 'GLU']\n",
    "#pos_res = ['ARG', 'HIP', 'LYS']\n",
    "\n",
    "#all_res = [pos_res, neg_res, polar_res, hydrophobic_res, aromatic_res]\n",
    "\n",
    "# Put the AA count in a pandas dataframe \n",
    "ta128_dg , ta128_ji = AA_list_org(ssbSDSmr16)\n",
    "#prot95_mocc = pd.DataFrame(data=ta128_dg, index=None, columns=['Amino_acids'])\n",
    "new_lfSDS16 = pd.Series(data=ta128_ji, index=None)\n",
    "prot95_mocc['BSA/SDS MR = 16'] = new_lfSDS16\n",
    "prot95_mocc"
   ]
  },
  {
   "cell_type": "code",
   "execution_count": null,
   "id": "cf7aa56a-69c6-4e6c-acc3-c88e171d0123",
   "metadata": {},
   "outputs": [],
   "source": [
    "prot95_mocc['BSA/SDS MR = 16'][:].sum()"
   ]
  },
  {
   "cell_type": "code",
   "execution_count": null,
   "id": "9737d31d-6a64-4295-b748-c3932cd426d3",
   "metadata": {},
   "outputs": [],
   "source": [
    "totres_SDS16 = prot95_mocc['BSA/SDS MR = 16'][:].sum()"
   ]
  },
  {
   "cell_type": "code",
   "execution_count": null,
   "id": "e205ffc7-7cc1-4c15-8487-63929ea91231",
   "metadata": {},
   "outputs": [],
   "source": [
    "# Number of positively charged residues (SASA)\n",
    "#pos_res = ['ARG', 'HIP', 'LYS']\n",
    "pos_SDSmr16 = prot95_mocc['BSA/SDS MR = 16'][0:3].sum()/totres_SDS16"
   ]
  },
  {
   "cell_type": "code",
   "execution_count": null,
   "id": "ccf6f1b0-8788-4c5c-a622-cecd6d960f59",
   "metadata": {},
   "outputs": [],
   "source": [
    "# Number of negatively charged residues (SASA)\n",
    "#neg_res = ['ASP', 'GLU']\n",
    "neg_SDSmr16 = prot95_mocc['BSA/SDS MR = 16'][3:5].sum()/totres_SDS16"
   ]
  },
  {
   "cell_type": "code",
   "execution_count": null,
   "id": "3ce59205-4069-446d-ab62-08588e1217c9",
   "metadata": {},
   "outputs": [],
   "source": [
    "# Number of polar residues (SASA)\n",
    "#polar_res = ['ASN', 'CYS', 'CYX' 'ASH', 'GLH','GLN', 'SER', 'THR','GLY','HIE','HID']\n",
    "pol_SDSmr16 = prot95_mocc['BSA/SDS MR = 16'][5:16].sum()/totres_SDS16"
   ]
  },
  {
   "cell_type": "code",
   "execution_count": null,
   "id": "804a6a98-6a64-42f8-87aa-08510679b510",
   "metadata": {},
   "outputs": [],
   "source": [
    "# Number of hydrophobic residues (SASA)\n",
    "#hydrophobic_res = ['ALA', 'ILE', 'LEU', 'VAL', 'PRO','PHE', 'TRP','MET','TYR']\n",
    "hb_SDSmr16 = prot95_mocc['BSA/SDS MR = 16'][16:25].sum()/totres_SDS16"
   ]
  },
  {
   "cell_type": "code",
   "execution_count": null,
   "id": "ca6ca3db-16e1-4494-be87-7c694ea2a660",
   "metadata": {},
   "outputs": [],
   "source": [
    "# Number of aromatic residues (SASA)\n",
    "#aromatic_res = ['PHE', 'TRP', 'TYR', 'HID','HIE']\n",
    "arm_SDSmr16 = prot95_mocc['BSA/SDS MR = 16'][25:30].sum()/totres_SDS16"
   ]
  },
  {
   "cell_type": "code",
   "execution_count": null,
   "id": "a12e82af-4ff4-4dc8-baf8-e082c89fcfa3",
   "metadata": {},
   "outputs": [],
   "source": []
  },
  {
   "cell_type": "code",
   "execution_count": null,
   "id": "fdf19c72-578f-4d83-a145-dc31c46b0190",
   "metadata": {},
   "outputs": [],
   "source": []
  },
  {
   "cell_type": "markdown",
   "id": "96abf880-a186-471c-858b-31805f5b726b",
   "metadata": {},
   "source": [
    "### BSA/SDS MR = 128 Mean Occ"
   ]
  },
  {
   "cell_type": "markdown",
   "id": "e2ec33f0-ca90-4e68-9d6b-3de6ed0d8ab6",
   "metadata": {},
   "source": [
    "#### Load Coordinates and Trajectory"
   ]
  },
  {
   "cell_type": "code",
   "execution_count": null,
   "id": "2d0daf09-b33a-47e3-b769-ceeffb22c668",
   "metadata": {},
   "outputs": [],
   "source": [
    "MR128_bsaSDS = mda.Universe('BSA_SDS_ions/BSA_SDS_MR_128/trial_1/sds_MR128nosol.pdb'\n",
    "                           ,'BSA_SDS_ions/BSA_SDS_MR_128/trial_1/centnoPBC_MR128.xtc')"
   ]
  },
  {
   "cell_type": "code",
   "execution_count": null,
   "id": "bdb36c49-f638-4650-9d0d-2201618279ae",
   "metadata": {},
   "outputs": [],
   "source": [
    "MR128_bsaSDS"
   ]
  },
  {
   "cell_type": "markdown",
   "id": "57c60d37-b794-4cdb-aa81-707f8073d490",
   "metadata": {},
   "source": [
    "#### Check that we are on the first frame"
   ]
  },
  {
   "cell_type": "code",
   "execution_count": null,
   "id": "c359fb59-7602-4fb2-8d25-902a71f95696",
   "metadata": {},
   "outputs": [],
   "source": [
    "MR128_bsaSDS.trajectory.frame"
   ]
  },
  {
   "cell_type": "code",
   "execution_count": null,
   "id": "cdec5552-4862-4028-bc8b-114d53e64fa5",
   "metadata": {},
   "outputs": [],
   "source": [
    "# Each frame was saved with dt being 20 ps (20 ps * 10000 frames = 200,000 ps = 200 ns) \n",
    "# Length of trajectory\n",
    "bSDSmr128_len = len(MR128_bsaSDS.trajectory)"
   ]
  },
  {
   "cell_type": "code",
   "execution_count": null,
   "id": "19ba4008-6af4-447e-ba6c-a628dc6fc941",
   "metadata": {},
   "outputs": [],
   "source": [
    "# Select protein\n",
    "bsa_bSDSmr128 = MR128_bsaSDS.select_atoms(\"protein\")\n",
    "bsa_bSDSmr128"
   ]
  },
  {
   "cell_type": "code",
   "execution_count": null,
   "id": "bbb7f9df-ebda-49a5-8020-1075cf18c1fe",
   "metadata": {},
   "outputs": [],
   "source": [
    "# Select SDS molecules\n",
    "SDS_bSDSmr128 = MR128_bsaSDS.select_atoms(\"resname SDS\")\n",
    "SDS_bSDSmr128"
   ]
  },
  {
   "cell_type": "code",
   "execution_count": null,
   "id": "06b194a1-f198-4d3f-8018-767a6d0ffff0",
   "metadata": {},
   "outputs": [],
   "source": [
    "# Select K+ ions\n",
    "K_bSDSmr128 = MR128_bsaSDS.select_atoms(\"resname K\")\n",
    "K_bSDSmr128"
   ]
  },
  {
   "cell_type": "markdown",
   "id": "fc619235-adfc-44d1-b0c2-974b8ab0bc1d",
   "metadata": {},
   "source": [
    "#### SDS occupancy"
   ]
  },
  {
   "cell_type": "code",
   "execution_count": null,
   "id": "53d4ebeb-fe07-40ed-b6db-5f82ebaef3b3",
   "metadata": {},
   "outputs": [],
   "source": [
    "#dmax = 4.0, DO NOT use surface atom group, you will get the wrong answer \n",
    "dmax = 4.0\n",
    "start = 0\n",
    "#end = 1000\n",
    "end = bSDSmr128_len - 1\n",
    "s_time = timeit.default_timer()\n",
    "bSDSMR128_occdict = aa_frmcount(bsa_bSDSmr128, SDS_bSDSmr128, dmax, MR128_bsaSDS, start, end)\n",
    "timeit.default_timer() - s_time"
   ]
  },
  {
   "cell_type": "code",
   "execution_count": null,
   "id": "7f47094e-9156-471a-a2ca-8d179fb8d046",
   "metadata": {},
   "outputs": [],
   "source": [
    "with open('bSDSMR128_occdict.json', 'w') as fp:\n",
    "    json.dump(bSDSMR128_occdict, fp)"
   ]
  },
  {
   "cell_type": "code",
   "execution_count": null,
   "id": "994a08bc-9717-465f-88ea-618d363c99f8",
   "metadata": {},
   "outputs": [],
   "source": [
    "with open('bSDSMR128_occdict.json', 'r') as fp:\n",
    "    bSDSMR128_occdict = json.load(fp)"
   ]
  },
  {
   "cell_type": "code",
   "execution_count": null,
   "id": "5879dd90-34ce-4539-a799-a4ea8c8259a6",
   "metadata": {},
   "outputs": [],
   "source": [
    "len(bSDSMR128_occdict.keys())"
   ]
  },
  {
   "cell_type": "code",
   "execution_count": null,
   "id": "1cc55695-4738-40c9-8648-10ced691d1b3",
   "metadata": {},
   "outputs": [],
   "source": [
    "sdsMR128_occ = {key:bSDSMR128_occdict[key][1] for key, value in bSDSMR128_occdict.items()}\n",
    "#test_TA"
   ]
  },
  {
   "cell_type": "code",
   "execution_count": null,
   "id": "1d095a8e-6afe-4ddf-910f-012f6cc48094",
   "metadata": {},
   "outputs": [],
   "source": [
    "bSDSMR128_occdict"
   ]
  },
  {
   "cell_type": "code",
   "execution_count": null,
   "id": "fc1e8b2a-0eb6-4020-8486-9ac9d200158b",
   "metadata": {},
   "outputs": [],
   "source": [
    "moccg95_bSDS128 = []\n",
    "for key, value in sdsMR128_occ.items():\n",
    "    if value > 0.95:\n",
    "        moccg95_bSDS128.append(key)"
   ]
  },
  {
   "cell_type": "code",
   "execution_count": null,
   "id": "35336978-bee2-43de-8e6a-506bd0ba950d",
   "metadata": {},
   "outputs": [],
   "source": [
    "len(moccg95_bSDS128)"
   ]
  },
  {
   "cell_type": "code",
   "execution_count": null,
   "id": "7e5ac35d-c3c2-4393-b895-4cdad9919bda",
   "metadata": {},
   "outputs": [],
   "source": [
    "tt_sdsMR128 = []\n",
    "#cnt_sav = []\n",
    "ssbsdsMR128 = []\n",
    "for i in range(len(a_a)):\n",
    "    count = 0\n",
    "    for j in range(len(moccg95_bSDS128)):\n",
    "        if (moccg95_bSDS128[j].find(a_a[i]) != -1) == True:\n",
    "            #print(a_a[i])\n",
    "            #print(moccg95_bSDS128[j])\n",
    "            tt_sdsMR128.append(moccg95_bSDS128[j])\n",
    "            #cnt_sav.append(j)\n",
    "            count += 1\n",
    "    ssbsdsMR128.append(str(str(a_a[i])+\"  \"+str(count)))    "
   ]
  },
  {
   "cell_type": "code",
   "execution_count": null,
   "id": "402d3af1-45a9-4d8b-98db-5d249ad8e3db",
   "metadata": {},
   "outputs": [],
   "source": [
    "ssbsdsMR128"
   ]
  },
  {
   "cell_type": "code",
   "execution_count": null,
   "id": "d8166193-9cbe-44b7-a36b-92066d6ed99b",
   "metadata": {},
   "outputs": [],
   "source": [
    "#tt_ta"
   ]
  },
  {
   "cell_type": "code",
   "execution_count": null,
   "id": "1e2548ad-d839-45f1-8164-b5ffee22942f",
   "metadata": {},
   "outputs": [],
   "source": [
    "moccg95_bSDS128[71]"
   ]
  },
  {
   "cell_type": "code",
   "execution_count": null,
   "id": "679fd931-5acf-4ea9-a49c-fb6624ea3e92",
   "metadata": {},
   "outputs": [],
   "source": [
    "len(cnt_sav)"
   ]
  },
  {
   "cell_type": "code",
   "execution_count": null,
   "id": "76f4eb4c-d4ec-418d-b853-fcd578002d0e",
   "metadata": {},
   "outputs": [],
   "source": [
    "# Sorting of AA in prot_polymer_analysis functions\n",
    "# Grouping of residues in Smith et al  \n",
    "#aromatic_res = ['PHE', 'TRP', 'TYR', 'HID','HIE']\n",
    "#hydrophobic_res = ['ALA', 'ILE', 'LEU', 'VAL', 'PRO','PHE', 'TRP','MET','TYR']\n",
    "#polar_res = ['ASN', 'CYS', 'CYX','ASH', 'GLH','GLN', 'SER', 'THR','GLY','HIE','HID']\n",
    "#neg_res = ['ASP', 'GLU']\n",
    "#pos_res = ['ARG', 'HIP', 'LYS']\n",
    "\n",
    "#all_res = [pos_res, neg_res, polar_res, hydrophobic_res, aromatic_res]\n",
    "\n",
    "# Put the AA count in a pandas dataframe \n",
    "ta128_dg , ta128_ji = AA_list_org(ssbsdsMR128)\n",
    "#prot95_mocc = pd.DataFrame(data=ta128_dg, index=None, columns=['Amino_acids'])\n",
    "new_lfsds128 = pd.Series(data=ta128_ji, index=None)\n",
    "prot95_mocc['BSA/SDS MR = 128'] = new_lfsds128\n",
    "prot95_mocc"
   ]
  },
  {
   "cell_type": "code",
   "execution_count": null,
   "id": "ba33b77f-061f-45bf-acc9-7f0f41817753",
   "metadata": {},
   "outputs": [],
   "source": [
    "prot95_mocc['BSA/SDS MR = 128'][:].sum()"
   ]
  },
  {
   "cell_type": "code",
   "execution_count": null,
   "id": "9eca6348-1bb3-49b8-a14d-2480b27108d9",
   "metadata": {},
   "outputs": [],
   "source": [
    "totres_SDS128 = prot95_mocc['BSA/SDS MR = 128'][:].sum()"
   ]
  },
  {
   "cell_type": "code",
   "execution_count": null,
   "id": "13c59341-90ed-46a1-b4a0-1f868a4e0d6c",
   "metadata": {},
   "outputs": [],
   "source": [
    "# Number of positively charged residues (SASA)\n",
    "#pos_res = ['ARG', 'HIP', 'LYS']\n",
    "pos_sdsMR128 = prot95_mocc['BSA/SDS MR = 128'][0:3].sum()/totres_SDS128"
   ]
  },
  {
   "cell_type": "code",
   "execution_count": null,
   "id": "a6c73fa4-3dd0-4e19-838e-961a95022997",
   "metadata": {},
   "outputs": [],
   "source": [
    "# Number of negatively charged residues (SASA)\n",
    "#neg_res = ['ASP', 'GLU']\n",
    "neg_sdsMR128 = prot95_mocc['BSA/SDS MR = 128'][3:5].sum()/totres_SDS128"
   ]
  },
  {
   "cell_type": "code",
   "execution_count": null,
   "id": "fef05890-961b-4184-8346-4e216172fd45",
   "metadata": {},
   "outputs": [],
   "source": [
    "# Number of polar residues (SASA)\n",
    "#polar_res = ['ASN', 'CYS', 'CYX' 'ASH', 'GLH','GLN', 'SER', 'THR','GLY','HIE','HID']\n",
    "pol_sdsMR128 = prot95_mocc['BSA/SDS MR = 128'][5:16].sum()/totres_SDS128"
   ]
  },
  {
   "cell_type": "code",
   "execution_count": null,
   "id": "415ac3ae-e16e-476b-9378-b36b478299f4",
   "metadata": {},
   "outputs": [],
   "source": [
    "# Number of hydrophobic residues (SASA)\n",
    "#hydrophobic_res = ['ALA', 'ILE', 'LEU', 'VAL', 'PRO','PHE', 'TRP','MET','TYR']\n",
    "hb_sdsMR128 = prot95_mocc['BSA/SDS MR = 128'][16:25].sum()/totres_SDS128"
   ]
  },
  {
   "cell_type": "code",
   "execution_count": null,
   "id": "9aa8b933-dc17-434d-9f53-eb7b42402db3",
   "metadata": {},
   "outputs": [],
   "source": [
    "# Number of aromatic residues (SASA)\n",
    "#aromatic_res = ['PHE', 'TRP', 'TYR', 'HID','HIE']\n",
    "arm_sdsMR128 = prot95_mocc['BSA/SDS MR = 128'][25:30].sum()/totres_SDS128"
   ]
  },
  {
   "cell_type": "code",
   "execution_count": null,
   "id": "c0800a1a-6ca2-4f4b-b6d5-c724ad4f2bd7",
   "metadata": {},
   "outputs": [],
   "source": []
  },
  {
   "cell_type": "code",
   "execution_count": null,
   "id": "32f745f5-e911-47b2-8eff-ee08cf7b0891",
   "metadata": {},
   "outputs": [],
   "source": []
  },
  {
   "cell_type": "code",
   "execution_count": null,
   "id": "d7087299-89d3-4163-8875-014e9fba143c",
   "metadata": {},
   "outputs": [],
   "source": []
  },
  {
   "cell_type": "code",
   "execution_count": null,
   "id": "f8390179-8b86-4ea4-a7ab-42c331ef1fcf",
   "metadata": {},
   "outputs": [],
   "source": []
  },
  {
   "cell_type": "markdown",
   "id": "7b5319da-3266-4eb1-92f9-ffea16dfa5e7",
   "metadata": {},
   "source": [
    "### BSA/DS MR = 1 Mean Occ"
   ]
  },
  {
   "cell_type": "markdown",
   "id": "5c4d7489-e293-4aac-b156-14f5b8fe3be7",
   "metadata": {},
   "source": [
    "#### Load Coordinates and Trajectory"
   ]
  },
  {
   "cell_type": "code",
   "execution_count": null,
   "id": "b4da4685-ead9-4772-af8a-ec6371740503",
   "metadata": {},
   "outputs": [],
   "source": [
    "MR1_bsaDS = mda.Universe('BSA_DS_ions/BSA_DS_MR_1/trial_1/DSmr1_bsa.pdb'\n",
    "                           ,'BSA_DS_ions/BSA_DS_MR_1/trial_1/centnoPBC_DSmr1.xtc')"
   ]
  },
  {
   "cell_type": "code",
   "execution_count": null,
   "id": "020455ed-b571-47ad-a056-ab3ad3c88222",
   "metadata": {},
   "outputs": [],
   "source": [
    "MR1_bsaDS"
   ]
  },
  {
   "cell_type": "markdown",
   "id": "2e6dc1cb-3c9d-4291-a8bd-83c32e8f05e2",
   "metadata": {},
   "source": [
    "#### Check that we are on the first frame"
   ]
  },
  {
   "cell_type": "code",
   "execution_count": null,
   "id": "482abd19-fc8d-410f-ace2-731653062e40",
   "metadata": {},
   "outputs": [],
   "source": [
    "MR1_bsaDS.trajectory.frame"
   ]
  },
  {
   "cell_type": "code",
   "execution_count": null,
   "id": "5a108005-d6e5-4f97-b787-0ab0648cc7f2",
   "metadata": {},
   "outputs": [],
   "source": [
    "# Each frame was saved with dt being 20 ps (20 ps * 10000 frames = 200,000 ps = 200 ns) \n",
    "# Length of trajectory\n",
    "bDSmr1_len = len(MR1_bsaDS.trajectory)\n",
    "bDSmr1_len"
   ]
  },
  {
   "cell_type": "code",
   "execution_count": null,
   "id": "c3af1d35-2f35-4c0e-8f41-d8770dff2eed",
   "metadata": {},
   "outputs": [],
   "source": [
    "# Select protein\n",
    "bsa_bDSmr1 = MR1_bsaDS.select_atoms(\"protein\")\n",
    "bsa_bDSmr1"
   ]
  },
  {
   "cell_type": "code",
   "execution_count": null,
   "id": "0460648a-b8a0-4677-9b00-1a4ac8ce270e",
   "metadata": {},
   "outputs": [],
   "source": [
    "# Select DS molecules\n",
    "DS_bDSmr1 = MR1_bsaDS.select_atoms(\"resname ROH ADN LDN\")\n",
    "DS_bDSmr1"
   ]
  },
  {
   "cell_type": "code",
   "execution_count": null,
   "id": "29e0612b-d652-4069-bd2e-0857276ddc87",
   "metadata": {},
   "outputs": [],
   "source": [
    "# Select K+ ions\n",
    "CL_bDSmr1 = MR1_bsaDS.select_atoms(\"resname CL\")\n",
    "CL_bDSmr1"
   ]
  },
  {
   "cell_type": "markdown",
   "id": "1c5ee075-1175-4890-ac91-7c7420aae144",
   "metadata": {},
   "source": [
    "#### DS occupancy"
   ]
  },
  {
   "cell_type": "code",
   "execution_count": null,
   "id": "85b5af7d-e1cb-42a8-9162-82d26afc1f6f",
   "metadata": {},
   "outputs": [],
   "source": [
    "#dmax = 4.0, DO NOT use surface atom group, you will get the wrong answer \n",
    "dmax = 4.0\n",
    "start = 0\n",
    "#end = 1000\n",
    "end = bDSmr1_len - 1\n",
    "s_time = timeit.default_timer()\n",
    "bDSmr1_occdict = aa_frmcount(bsa_bDSmr1, DS_bDSmr1, dmax, MR1_bsaDS, start, end)\n",
    "timeit.default_timer() - s_time"
   ]
  },
  {
   "cell_type": "code",
   "execution_count": null,
   "id": "22594b0a-7bbf-45e3-8c44-ada5487d29dd",
   "metadata": {},
   "outputs": [],
   "source": [
    "with open('bDSmr1_occdict.json', 'w') as fp:\n",
    "    json.dump(bDSmr1_occdict, fp)"
   ]
  },
  {
   "cell_type": "code",
   "execution_count": null,
   "id": "93044778-2bfe-44f4-be40-f10aeeafb6dd",
   "metadata": {},
   "outputs": [],
   "source": [
    "with open('bDSmr1_occdict.json', 'r') as fp:\n",
    "    bDSmr1_occdict = json.load(fp)"
   ]
  },
  {
   "cell_type": "code",
   "execution_count": null,
   "id": "bf09de6d-58d4-4f95-82ec-634da7df3c86",
   "metadata": {},
   "outputs": [],
   "source": [
    "len(bDSmr1_occdict.keys())"
   ]
  },
  {
   "cell_type": "code",
   "execution_count": null,
   "id": "c791dd0f-7a65-457d-9844-ee263a059fd8",
   "metadata": {},
   "outputs": [],
   "source": [
    "DSmr1_occ = {key:bDSmr1_occdict[key][1] for key, value in bDSmr1_occdict.items()}\n",
    "#test_TA"
   ]
  },
  {
   "cell_type": "code",
   "execution_count": null,
   "id": "6f87d1ec-1435-4f2f-84a7-eeea9cae8fc4",
   "metadata": {},
   "outputs": [],
   "source": [
    "bDSmr1_occdict"
   ]
  },
  {
   "cell_type": "code",
   "execution_count": null,
   "id": "e9b9afdb-0a0f-4852-910e-1ae6f253c8d6",
   "metadata": {},
   "outputs": [],
   "source": [
    "moccg95_bDSmr1 = []\n",
    "for key, value in DSmr1_occ.items():\n",
    "    if value > 0.95:\n",
    "        moccg95_bDSmr1.append(key)"
   ]
  },
  {
   "cell_type": "code",
   "execution_count": null,
   "id": "37ed4aa2-ad07-4eff-b1e3-27943d7104d1",
   "metadata": {},
   "outputs": [],
   "source": [
    "len(moccg95_bDSmr1)"
   ]
  },
  {
   "cell_type": "code",
   "execution_count": null,
   "id": "3535891f-77ea-4d94-8f1f-5949e1c2018e",
   "metadata": {},
   "outputs": [],
   "source": [
    "tt_DSmr1 = []\n",
    "#cnt_sav = []\n",
    "ssbDSmr1 = []\n",
    "for i in range(len(a_a)):\n",
    "    count = 0\n",
    "    for j in range(len(moccg95_bDSmr1)):\n",
    "        if (moccg95_bDSmr1[j].find(a_a[i]) != -1) == True:\n",
    "            #print(a_a[i])\n",
    "            #print(moccg95_bDSmr1[j])\n",
    "            tt_DSmr1.append(moccg95_bDSmr1[j])\n",
    "            #cnt_sav.append(j)\n",
    "            count += 1\n",
    "    ssbDSmr1.append(str(str(a_a[i])+\"  \"+str(count)))    "
   ]
  },
  {
   "cell_type": "code",
   "execution_count": null,
   "id": "32acefff-49a8-43b5-8ecc-d46078171fe1",
   "metadata": {},
   "outputs": [],
   "source": [
    "ssbDSmr1"
   ]
  },
  {
   "cell_type": "code",
   "execution_count": null,
   "id": "f9d51463-0269-4719-879c-ec8e40aab91a",
   "metadata": {},
   "outputs": [],
   "source": [
    "#tt_ta"
   ]
  },
  {
   "cell_type": "code",
   "execution_count": null,
   "id": "9d61b835-1cf7-4645-b55d-64c38a23853d",
   "metadata": {},
   "outputs": [],
   "source": [
    "moccg95_bDSmr1[71]"
   ]
  },
  {
   "cell_type": "code",
   "execution_count": null,
   "id": "a981328d-4673-4244-ace8-a55e02133c70",
   "metadata": {},
   "outputs": [],
   "source": [
    "len(cnt_sav)"
   ]
  },
  {
   "cell_type": "code",
   "execution_count": null,
   "id": "a6492d3c-acf1-4bd7-82df-9454aec6bd37",
   "metadata": {},
   "outputs": [],
   "source": [
    "# Sorting of AA in prot_polymer_analysis functions\n",
    "# Grouping of residues in Smith et al  \n",
    "#aromatic_res = ['PHE', 'TRP', 'TYR', 'HID','HIE']\n",
    "#hydrophobic_res = ['ALA', 'ILE', 'LEU', 'VAL', 'PRO','PHE', 'TRP','MET','TYR']\n",
    "#polar_res = ['ASN', 'CYS', 'CYX','ASH', 'GLH','GLN', 'SER', 'THR','GLY','HIE','HID']\n",
    "#neg_res = ['ASP', 'GLU']\n",
    "#pos_res = ['ARG', 'HIP', 'LYS']\n",
    "\n",
    "#all_res = [pos_res, neg_res, polar_res, hydrophobic_res, aromatic_res]\n",
    "\n",
    "# Put the AA count in a pandas dataframe \n",
    "ta128_dg , ta128_ji = AA_list_org(ssbDSmr1)\n",
    "#prot95_mocc = pd.DataFrame(data=ta128_dg, index=None, columns=['Amino_acids'])\n",
    "new_lfDSmr1 = pd.Series(data=ta128_ji, index=None)\n",
    "prot95_mocc['BSA/DS MR = 1'] = new_lfDSmr1\n",
    "prot95_mocc"
   ]
  },
  {
   "cell_type": "code",
   "execution_count": null,
   "id": "b5bb867a-88e2-44b7-b6f0-61eecd91b505",
   "metadata": {},
   "outputs": [],
   "source": [
    "prot95_mocc['BSA/DS MR = 1'][:].sum()"
   ]
  },
  {
   "cell_type": "code",
   "execution_count": null,
   "id": "1b4e6edf-569d-40d0-b813-6051bc0e7ee9",
   "metadata": {},
   "outputs": [],
   "source": [
    "totres_DSmr1 = prot95_mocc['BSA/DS MR = 1'][:].sum()"
   ]
  },
  {
   "cell_type": "code",
   "execution_count": null,
   "id": "1444676d-efd0-4f26-9cb1-f44aa73289cf",
   "metadata": {},
   "outputs": [],
   "source": [
    "# Number of positively charged residues (SASA)\n",
    "#pos_res = ['ARG', 'HIP', 'LYS']\n",
    "pos_DSmr1 = prot95_mocc['BSA/DS MR = 1'][0:3].sum()/totres_DSmr1"
   ]
  },
  {
   "cell_type": "code",
   "execution_count": null,
   "id": "1c366867-f6ad-4c74-a35e-b01b9cc0b85b",
   "metadata": {},
   "outputs": [],
   "source": [
    "# Number of negatively charged residues (SASA)\n",
    "#neg_res = ['ASP', 'GLU']\n",
    "neg_DSmr1 = prot95_mocc['BSA/DS MR = 1'][3:5].sum()/totres_DSmr1"
   ]
  },
  {
   "cell_type": "code",
   "execution_count": null,
   "id": "0ddee8fb-5ee0-430b-a397-df28ef6ef7a4",
   "metadata": {},
   "outputs": [],
   "source": [
    "# Number of polar residues (SASA)\n",
    "#polar_res = ['ASN', 'CYS', 'CYX' 'ASH', 'GLH','GLN', 'SER', 'THR','GLY','HIE','HID']\n",
    "pol_DSmr1 = prot95_mocc['BSA/DS MR = 1'][5:16].sum()/totres_DSmr1"
   ]
  },
  {
   "cell_type": "code",
   "execution_count": null,
   "id": "80283e29-777a-496c-9cce-fdf6917d4f0a",
   "metadata": {},
   "outputs": [],
   "source": [
    "# Number of hydrophobic residues (SASA)\n",
    "#hydrophobic_res = ['ALA', 'ILE', 'LEU', 'VAL', 'PRO','PHE', 'TRP','MET','TYR']\n",
    "hb_DSmr1 = prot95_mocc['BSA/DS MR = 1'][16:25].sum()/totres_DSmr1"
   ]
  },
  {
   "cell_type": "code",
   "execution_count": null,
   "id": "f0c7e33a-492b-423a-8f1b-e6a5a864d4d2",
   "metadata": {},
   "outputs": [],
   "source": [
    "# Number of aromatic residues (SASA)\n",
    "#aromatic_res = ['PHE', 'TRP', 'TYR', 'HID','HIE']\n",
    "arm_DSmr1 = prot95_mocc['BSA/DS MR = 1'][25:30].sum()/totres_DSmr1"
   ]
  },
  {
   "cell_type": "code",
   "execution_count": null,
   "id": "feb61ceb-5801-42da-99db-4866597f6c20",
   "metadata": {},
   "outputs": [],
   "source": []
  },
  {
   "cell_type": "code",
   "execution_count": null,
   "id": "65ed4a2f-95bb-4140-8e40-90c799f5e042",
   "metadata": {},
   "outputs": [],
   "source": []
  },
  {
   "cell_type": "code",
   "execution_count": null,
   "id": "8876c372-4022-4164-9e8e-9bd1b9af9a59",
   "metadata": {},
   "outputs": [],
   "source": []
  },
  {
   "cell_type": "markdown",
   "id": "abd9beed-a01b-45f7-8230-9cc614c0d0ee",
   "metadata": {},
   "source": [
    "### BSA/DS MR = 5 Mean Occ"
   ]
  },
  {
   "cell_type": "markdown",
   "id": "36b1c938-f4f1-4af2-ac92-61f513a63c19",
   "metadata": {},
   "source": [
    "#### Load Coordinates and Trajectory"
   ]
  },
  {
   "cell_type": "code",
   "execution_count": null,
   "id": "1c6f18bf-167c-4524-92d5-cd8dd061ff61",
   "metadata": {},
   "outputs": [],
   "source": [
    "MR5_bsaDS = mda.Universe('BSA_DS_ions/BSA_DS_MR_5/trial_1/DS_MR5nosol.pdb'\n",
    "                           ,'BSA_DS_ions/BSA_DS_MR_5/trial_1/centnoPBC_MR5DS.xtc')"
   ]
  },
  {
   "cell_type": "code",
   "execution_count": null,
   "id": "046c3d59-b85d-4350-b5cf-8e708a86d7f5",
   "metadata": {},
   "outputs": [],
   "source": [
    "MR5_bsaDS"
   ]
  },
  {
   "cell_type": "markdown",
   "id": "63fcf7ed-e1d6-4005-a95e-7b677ec64aa9",
   "metadata": {},
   "source": [
    "#### Check that we are on the first frame"
   ]
  },
  {
   "cell_type": "code",
   "execution_count": null,
   "id": "2e53859a-ce17-4939-ad5b-ddb4d80577fe",
   "metadata": {},
   "outputs": [],
   "source": [
    "MR5_bsaDS.trajectory.frame"
   ]
  },
  {
   "cell_type": "code",
   "execution_count": null,
   "id": "a2249773-88c5-46d9-b6c9-a198ec6b87dc",
   "metadata": {},
   "outputs": [],
   "source": [
    "# Each frame was saved with dt being 20 ps (20 ps * 10000 frames = 200,000 ps = 200 ns) \n",
    "# Length of trajectory\n",
    "bDSmr5_len = len(MR5_bsaDS.trajectory)\n",
    "bDSmr5_len"
   ]
  },
  {
   "cell_type": "code",
   "execution_count": null,
   "id": "9c1af9aa-e010-44d3-b9eb-2e748e064c38",
   "metadata": {},
   "outputs": [],
   "source": [
    "# Select protein\n",
    "bsa_bDSmr5 = MR5_bsaDS.select_atoms(\"protein\")\n",
    "bsa_bDSmr5"
   ]
  },
  {
   "cell_type": "code",
   "execution_count": null,
   "id": "b7ac4f9f-25ef-451d-bd4c-f9e9a1a3350e",
   "metadata": {},
   "outputs": [],
   "source": [
    "# Select DS molecules\n",
    "DS_bDSmr5 = MR5_bsaDS.select_atoms(\"resname ROH ADN LDN\")\n",
    "DS_bDSmr5"
   ]
  },
  {
   "cell_type": "code",
   "execution_count": null,
   "id": "f7549273-5d23-4221-82a3-3403828441e6",
   "metadata": {},
   "outputs": [],
   "source": [
    "# Select K+ ions\n",
    "K_bDSmr5 = MR5_bsaDS.select_atoms(\"resname K\")\n",
    "K_bDSmr5"
   ]
  },
  {
   "cell_type": "markdown",
   "id": "e6cfca27-9eb0-4b1d-aa8f-38e7e61862ce",
   "metadata": {},
   "source": [
    "#### DS occupancy"
   ]
  },
  {
   "cell_type": "code",
   "execution_count": null,
   "id": "58df6cad-632d-445c-b69a-e514c3212296",
   "metadata": {},
   "outputs": [],
   "source": [
    "#dmax = 4.0, DO NOT use surface atom group, you will get the wrong answer \n",
    "dmax = 4.0\n",
    "start = 0\n",
    "#end = 1000\n",
    "end = bDSmr5_len - 1\n",
    "s_time = timeit.default_timer()\n",
    "bDSMR5_occdict = aa_frmcount(bsa_bDSmr5, DS_bDSmr5, dmax, MR5_bsaDS, start, end)\n",
    "timeit.default_timer() - s_time"
   ]
  },
  {
   "cell_type": "code",
   "execution_count": null,
   "id": "6acd60ee-6496-4e2d-9392-a1df003fac90",
   "metadata": {},
   "outputs": [],
   "source": [
    "with open('bDSMR5_occdict.json', 'w') as fp:\n",
    "    json.dump(bDSMR5_occdict, fp)"
   ]
  },
  {
   "cell_type": "code",
   "execution_count": null,
   "id": "0fbe6017-327d-4aa7-ab5e-ec23df79fcb1",
   "metadata": {},
   "outputs": [],
   "source": [
    "with open('bDSMR5_occdict.json', 'r') as fp:\n",
    "    bDSMR5_occdict = json.load(fp)"
   ]
  },
  {
   "cell_type": "code",
   "execution_count": null,
   "id": "72dd5ec4-f487-49e0-b099-0a42105190af",
   "metadata": {},
   "outputs": [],
   "source": [
    "len(bDSMR5_occdict.keys())"
   ]
  },
  {
   "cell_type": "code",
   "execution_count": null,
   "id": "0ce2ecc4-a719-4427-b351-da82aacf0553",
   "metadata": {},
   "outputs": [],
   "source": [
    "DSmr5_occ = {key:bDSMR5_occdict[key][1] for key, value in bDSMR5_occdict.items()}\n",
    "#test_TA"
   ]
  },
  {
   "cell_type": "code",
   "execution_count": null,
   "id": "547acbed-f553-47b0-b76c-9344a3164e9c",
   "metadata": {},
   "outputs": [],
   "source": [
    "bDSmr5_occdict"
   ]
  },
  {
   "cell_type": "code",
   "execution_count": null,
   "id": "4292d15d-493a-4a71-8ef9-8f82bdaad0c3",
   "metadata": {},
   "outputs": [],
   "source": [
    "moccg95_bDSmr5 = []\n",
    "for key, value in DSmr5_occ.items():\n",
    "    if value > 0.95:\n",
    "        moccg95_bDSmr5.append(key)"
   ]
  },
  {
   "cell_type": "code",
   "execution_count": null,
   "id": "1e616375-0189-4ea6-b6c9-b6a09092eb91",
   "metadata": {},
   "outputs": [],
   "source": [
    "len(moccg95_bDSmr5)"
   ]
  },
  {
   "cell_type": "code",
   "execution_count": null,
   "id": "e509dae4-21c2-44bf-9fba-10d242f18f8c",
   "metadata": {},
   "outputs": [],
   "source": [
    "tt_DSmr5 = []\n",
    "#cnt_sav = []\n",
    "ssbDSmr5 = []\n",
    "for i in range(len(a_a)):\n",
    "    count = 0\n",
    "    for j in range(len(moccg95_bDSmr5)):\n",
    "        if (moccg95_bDSmr5[j].find(a_a[i]) != -1) == True:\n",
    "            #print(a_a[i])\n",
    "            #print(moccg95_bDSmr5[j])\n",
    "            tt_DSmr5.append(moccg95_bDSmr5[j])\n",
    "            #cnt_sav.append(j)\n",
    "            count += 1\n",
    "    ssbDSmr5.append(str(str(a_a[i])+\"  \"+str(count)))    "
   ]
  },
  {
   "cell_type": "code",
   "execution_count": null,
   "id": "1f759df2-08af-43a7-8ab7-7b5397828362",
   "metadata": {},
   "outputs": [],
   "source": [
    "ssbDSmr5"
   ]
  },
  {
   "cell_type": "code",
   "execution_count": null,
   "id": "ac715d1b-9415-4955-a6db-7466b2a2c553",
   "metadata": {},
   "outputs": [],
   "source": [
    "#tt_ta"
   ]
  },
  {
   "cell_type": "code",
   "execution_count": null,
   "id": "b26faffd-f96f-4dbb-bbc1-8c828be36e6c",
   "metadata": {},
   "outputs": [],
   "source": [
    "moccg95_bDSmr5[71]"
   ]
  },
  {
   "cell_type": "code",
   "execution_count": null,
   "id": "8e328161-694c-4ba8-a19d-f8e87cda4e77",
   "metadata": {},
   "outputs": [],
   "source": [
    "len(cnt_sav)"
   ]
  },
  {
   "cell_type": "code",
   "execution_count": null,
   "id": "fa08124d-6e51-4b64-9cb5-fbe33748e5c5",
   "metadata": {},
   "outputs": [],
   "source": [
    "# Sorting of AA in prot_polymer_analysis functions\n",
    "# Grouping of residues in Smith et al  \n",
    "#aromatic_res = ['PHE', 'TRP', 'TYR', 'HID','HIE']\n",
    "#hydrophobic_res = ['ALA', 'ILE', 'LEU', 'VAL', 'PRO','PHE', 'TRP','MET','TYR']\n",
    "#polar_res = ['ASN', 'CYS', 'CYX','ASH', 'GLH','GLN', 'SER', 'THR','GLY','HIE','HID']\n",
    "#neg_res = ['ASP', 'GLU']\n",
    "#pos_res = ['ARG', 'HIP', 'LYS']\n",
    "\n",
    "#all_res = [pos_res, neg_res, polar_res, hydrophobic_res, aromatic_res]\n",
    "\n",
    "# Put the AA count in a pandas dataframe \n",
    "ta128_dg , ta128_ji = AA_list_org(ssbDSmr5)\n",
    "#prot95_mocc = pd.DataFrame(data=ta128_dg, index=None, columns=['Amino_acids'])\n",
    "new_lfDSmr5 = pd.Series(data=ta128_ji, index=None)\n",
    "prot95_mocc['BSA/DS MR = 5'] = new_lfDSmr5\n",
    "prot95_mocc"
   ]
  },
  {
   "cell_type": "code",
   "execution_count": null,
   "id": "dcb92709-ef24-4bfa-98c7-47122f209dc9",
   "metadata": {},
   "outputs": [],
   "source": [
    "prot95_mocc['BSA/DS MR = 5'][:].sum()"
   ]
  },
  {
   "cell_type": "code",
   "execution_count": null,
   "id": "89095413-990e-4f6d-81c4-1f314851a577",
   "metadata": {},
   "outputs": [],
   "source": [
    "totres_DSmr5 = prot95_mocc['BSA/DS MR = 5'][:].sum()"
   ]
  },
  {
   "cell_type": "code",
   "execution_count": null,
   "id": "da908801-7db6-4bd2-ad38-ba98aafbf6cb",
   "metadata": {},
   "outputs": [],
   "source": [
    "# Number of positively charged residues (SASA)\n",
    "#pos_res = ['ARG', 'HIP', 'LYS']\n",
    "pos_DSmr5 = prot95_mocc['BSA/DS MR = 5'][0:3].sum()/totres_DSmr5"
   ]
  },
  {
   "cell_type": "code",
   "execution_count": null,
   "id": "9ba54565-afbd-4609-8954-73e2313d7fac",
   "metadata": {},
   "outputs": [],
   "source": [
    "# Number of negatively charged residues (SASA)\n",
    "#neg_res = ['ASP', 'GLU']\n",
    "neg_DSmr5 = prot95_mocc['BSA/DS MR = 5'][3:5].sum()/totres_DSmr5"
   ]
  },
  {
   "cell_type": "code",
   "execution_count": null,
   "id": "2dc0c563-87b9-4a8c-9c28-037afba0d73e",
   "metadata": {},
   "outputs": [],
   "source": [
    "# Number of polar residues (SASA)\n",
    "#polar_res = ['ASN', 'CYS', 'CYX' 'ASH', 'GLH','GLN', 'SER', 'THR','GLY','HIE','HID']\n",
    "pol_DSmr5 = prot95_mocc['BSA/DS MR = 5'][5:16].sum()/totres_DSmr5"
   ]
  },
  {
   "cell_type": "code",
   "execution_count": null,
   "id": "1af75a10-c284-44fd-a167-59be8072b26e",
   "metadata": {},
   "outputs": [],
   "source": [
    "# Number of hydrophobic residues (SASA)\n",
    "#hydrophobic_res = ['ALA', 'ILE', 'LEU', 'VAL', 'PRO','PHE', 'TRP','MET','TYR']\n",
    "hb_DSmr5 = prot95_mocc['BSA/DS MR = 5'][16:25].sum()/totres_DSmr5"
   ]
  },
  {
   "cell_type": "code",
   "execution_count": null,
   "id": "21ae2d2a-4ee5-4245-a27a-250715bf65ff",
   "metadata": {},
   "outputs": [],
   "source": [
    "# Number of aromatic residues (SASA)\n",
    "#aromatic_res = ['PHE', 'TRP', 'TYR', 'HID','HIE']\n",
    "arm_DSmr5 = prot95_mocc['BSA/DS MR = 5'][25:30].sum()/totres_DSmr5"
   ]
  },
  {
   "cell_type": "code",
   "execution_count": null,
   "id": "fc0040f1-8c73-417a-8f42-1e870375b824",
   "metadata": {},
   "outputs": [],
   "source": []
  },
  {
   "cell_type": "markdown",
   "id": "a7ff34f9-f615-448a-b1f5-d70657f3977e",
   "metadata": {},
   "source": [
    "### Plotting Low MR"
   ]
  },
  {
   "cell_type": "code",
   "execution_count": null,
   "id": "c5cbc734-23a4-4cb8-b732-3a4b2e154b7d",
   "metadata": {},
   "outputs": [],
   "source": [
    "TA128_sAA"
   ]
  },
  {
   "cell_type": "code",
   "execution_count": null,
   "id": "3c1df17d-bf8a-42b3-bf39-cb633b6f1335",
   "metadata": {},
   "outputs": [],
   "source": [
    "np.sum(DSmr5_sAA)"
   ]
  },
  {
   "cell_type": "code",
   "execution_count": null,
   "id": "23382774-6f67-445f-8808-dc570d264896",
   "metadata": {},
   "outputs": [],
   "source": [
    "TA32_sAA = np.array([neg_TAmr32, pos_TAmr32, pol_TAmr32, hb_TAmr32, arm_TAmr32])\n",
    "SDS16_sAA = np.array([neg_SDSmr16, pos_SDSmr16, pol_SDSmr16, hb_SDSmr16, arm_SDSmr16])\n",
    "DSmr1_sAA = np.array([neg_DSmr1, pos_DSmr1, pol_DSmr1, hb_DSmr1, arm_DSmr1])"
   ]
  },
  {
   "cell_type": "code",
   "execution_count": null,
   "id": "4453d961-beff-493d-90b1-98a09a5c2975",
   "metadata": {},
   "outputs": [],
   "source": [
    "np.sum(DSmr1_sAA)"
   ]
  },
  {
   "cell_type": "code",
   "execution_count": null,
   "id": "feb6e0dd-80b7-4c58-9fb5-8a0d36fb9650",
   "metadata": {},
   "outputs": [],
   "source": [
    "np.sum(SDS16_sAA)"
   ]
  },
  {
   "cell_type": "code",
   "execution_count": null,
   "id": "1a95b6c2-a339-4091-bccd-52659b961dcd",
   "metadata": {},
   "outputs": [],
   "source": [
    "np.sum(TA32_sAA)"
   ]
  },
  {
   "cell_type": "code",
   "execution_count": null,
   "id": "d3402e5f-2e82-4dcc-a3ba-2fb5af26e0fd",
   "metadata": {},
   "outputs": [],
   "source": [
    "from matplotlib import rcParams\n",
    "from matplotlib.ticker import FixedLocator, FixedFormatter, AutoMinorLocator\n",
    "plt.rcParams[\"font.weight\"] = \"bold\"\n",
    "plt.rcParams[\"axes.labelweight\"] = \"bold\"\n",
    "plt.rcParams['font.family'] = \"Arial\"\n",
    "\n",
    "aa_types = [\"Negative\", \"Positive\", \"Polar\", \"Hydrophobic\",\"Aromatic\"]\n",
    "\n",
    "fig, ax = plt.subplots(figsize=(9,9))\n",
    "#x_mr = np.arange(len(frac_totavg)) +1\n",
    "x_pos = np.arange(5)+1\n",
    "width = 0.15\n",
    "\n",
    "# Set position of bar on X axis\n",
    "r1 = np.arange(len(aa_types))\n",
    "r2 = [x + width for x in r1]\n",
    "r3 = [x + width for x in r2]\n",
    "r4 = [x + width for x in r3]\n",
    "r5 = [x + (0.1*width) for x in r2]\n",
    "\n",
    "ax.bar(r1, TA32_sAA, width, label='BSA/TA MR = 32',\n",
    "            color='saddlebrown', capsize=5, edgecolor='black')\n",
    "ax.bar(r2, SDS16_sAA, width,  label='BSA/SDS MR = 16',\n",
    "            color='yellowgreen', capsize=5, edgecolor='black')\n",
    "ax.bar(r3, DSmr1_sAA, width, label='BSA/DS MR = 1',\n",
    "            color='goldenrod',  capsize=5,  edgecolor='black')\n",
    "\n",
    "\n",
    "#ax.set_xlabel('Catalase/Dextran Sulphate Molar Ratio', fontsize=20, labelpad=7)  # Add an x-label to the axes.\n",
    "ax.set_ylabel('Fraction of Surface Residues w/ >95% occupancy', fontsize=20, labelpad=7)  # Add a y-label to the axes.\n",
    "#ax.set_title(\"Simple Plot\")  # Add a title to the axes\n",
    "font = font_manager.FontProperties(style='normal', size=20)\n",
    "ax.legend(frameon=False, fontsize=20, prop=font)\n",
    "\n",
    "for axis in ['top','bottom','left','right']:\n",
    "    ax.spines[axis].set_linewidth(2)\n",
    "\n",
    "ax.xaxis.set_tick_params(direction='out', width=2, length=15, labelsize=18, labelrotation=40)\n",
    "x_formatter = FixedFormatter(aa_types)\n",
    "x_locator = FixedLocator(r5)\n",
    "ax.xaxis.set_major_locator(x_locator)\n",
    "ax.xaxis.set_major_formatter(x_formatter)\n",
    "ax.yaxis.set_minor_locator(AutoMinorLocator())\n",
    "ax.yaxis.set_tick_params(which='major', direction='inout', width=2, length=15, labelsize=18)\n",
    "ax.yaxis.set_tick_params(which='minor', direction='inout', width=2, length=6, labelsize=18)\n",
    "#ax.xaxis.set_tick_params(which='minor', bottom=False)\n",
    "#ax.set_xticklabels(fontsize=16)\n",
    "\n",
    "#xlims = (0, 6)\n",
    "ylims = (0, 0.8)\n",
    "#ax.set_xlim(xlims)\n",
    "ax.set_ylim(ylims)\n",
    "\n",
    "\n",
    "fig.savefig('FracOcc_AAgrpLowMR.jpg',bbox_inches='tight', dpi=400)"
   ]
  },
  {
   "cell_type": "markdown",
   "id": "6cc48b57-217e-4d56-9f00-b01ac1ef4dbb",
   "metadata": {},
   "source": [
    "### Plotting High MR"
   ]
  },
  {
   "cell_type": "code",
   "execution_count": null,
   "id": "d32e8918-3bcf-436c-b0c8-2fc6d0900373",
   "metadata": {},
   "outputs": [],
   "source": [
    "TA128_sAA"
   ]
  },
  {
   "cell_type": "code",
   "execution_count": null,
   "id": "ee3f06ab-9a4a-493c-ac26-edf1816db5ed",
   "metadata": {},
   "outputs": [],
   "source": [
    "np.sum(DSmr5_sAA)"
   ]
  },
  {
   "cell_type": "code",
   "execution_count": null,
   "id": "96305d1c-0cd9-45f0-9f89-b576df29029b",
   "metadata": {},
   "outputs": [],
   "source": [
    "TA128_sAA = np.array([neg_taMR128, pos_taMR128, pol_taMR128, hb_taMR128, arm_taMR128])\n",
    "SDS128_sAA = np.array([neg_sdsMR128, pos_sdsMR128, pol_sdsMR128, hb_sdsMR128, arm_sdsMR128])\n",
    "DSmr5_sAA = np.array([neg_DSmr5, pos_DSmr5, pol_DSmr5, hb_DSmr5, arm_DSmr5])"
   ]
  },
  {
   "cell_type": "code",
   "execution_count": null,
   "id": "45a75fc7-8cd4-4fb6-8827-2a2e77c9ae7c",
   "metadata": {},
   "outputs": [],
   "source": [
    "from matplotlib import rcParams\n",
    "from matplotlib.ticker import FixedLocator, FixedFormatter, AutoMinorLocator\n",
    "plt.rcParams[\"font.weight\"] = \"bold\"\n",
    "plt.rcParams[\"axes.labelweight\"] = \"bold\"\n",
    "plt.rcParams['font.family'] = \"Arial\"\n",
    "\n",
    "aa_types = [\"Negative\", \"Positive\", \"Polar\", \"Hydrophobic\",\"Aromatic\"]\n",
    "\n",
    "fig, ax = plt.subplots(figsize=(9,9))\n",
    "#x_mr = np.arange(len(frac_totavg)) +1\n",
    "x_pos = np.arange(5)+1\n",
    "width = 0.15\n",
    "\n",
    "# Set position of bar on X axis\n",
    "r1 = np.arange(len(aa_types))\n",
    "r2 = [x + width for x in r1]\n",
    "r3 = [x + width for x in r2]\n",
    "r4 = [x + width for x in r3]\n",
    "r5 = [x + (0.1*width) for x in r2]\n",
    "\n",
    "ax.bar(r1, TA128_sAA, width, label='BSA/TA MR = 128',\n",
    "            color='seagreen', capsize=5, edgecolor='black')\n",
    "ax.bar(r2, SDS128_sAA, width,  label='BSA/SDS MR = 128',\n",
    "            color='skyblue', capsize=5, edgecolor='black')\n",
    "ax.bar(r3, DSmr5_sAA, width, label='BSA/DS MR = 5',\n",
    "            color='orange',  capsize=5,  edgecolor='black')\n",
    "\n",
    "\n",
    "#ax.set_xlabel('Catalase/Dextran Sulphate Molar Ratio', fontsize=20, labelpad=7)  # Add an x-label to the axes.\n",
    "ax.set_ylabel('Fraction of Surface Residues w/ >95% occupancy', fontsize=20, labelpad=7)  # Add a y-label to the axes.\n",
    "#ax.set_title(\"Simple Plot\")  # Add a title to the axes\n",
    "font = font_manager.FontProperties(style='normal', size=20)\n",
    "ax.legend(frameon=False, fontsize=20, prop=font)\n",
    "\n",
    "for axis in ['top','bottom','left','right']:\n",
    "    ax.spines[axis].set_linewidth(2)\n",
    "\n",
    "ax.xaxis.set_tick_params(direction='out', width=2, length=15, labelsize=18, labelrotation=40)\n",
    "x_formatter = FixedFormatter(aa_types)\n",
    "x_locator = FixedLocator(r5)\n",
    "ax.xaxis.set_major_locator(x_locator)\n",
    "ax.xaxis.set_major_formatter(x_formatter)\n",
    "ax.yaxis.set_minor_locator(AutoMinorLocator())\n",
    "ax.yaxis.set_tick_params(which='major', direction='inout', width=2, length=15, labelsize=18)\n",
    "ax.yaxis.set_tick_params(which='minor', direction='inout', width=2, length=6, labelsize=18)\n",
    "#ax.xaxis.set_tick_params(which='minor', bottom=False)\n",
    "#ax.set_xticklabels(fontsize=16)\n",
    "\n",
    "#xlims = (0, 6)\n",
    "ylims = (0, 0.6)\n",
    "#ax.set_xlim(xlims)\n",
    "ax.set_ylim(ylims)\n",
    "\n",
    "\n",
    "fig.savefig('FracOcc_AAgrp.jpg',bbox_inches='tight', dpi=400)"
   ]
  },
  {
   "cell_type": "code",
   "execution_count": null,
   "id": "e7353ae6-77fa-409e-b29b-ebe5a053f941",
   "metadata": {},
   "outputs": [],
   "source": []
  }
 ],
 "metadata": {
  "kernelspec": {
   "display_name": "plenv",
   "language": "python",
   "name": "plenv"
  },
  "language_info": {
   "codemirror_mode": {
    "name": "ipython",
    "version": 3
   },
   "file_extension": ".py",
   "mimetype": "text/x-python",
   "name": "python",
   "nbconvert_exporter": "python",
   "pygments_lexer": "ipython3",
   "version": "3.6.13"
  }
 },
 "nbformat": 4,
 "nbformat_minor": 5
}
